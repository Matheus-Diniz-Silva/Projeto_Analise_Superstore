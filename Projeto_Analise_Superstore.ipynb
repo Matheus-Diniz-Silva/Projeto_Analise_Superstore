{
  "nbformat": 4,
  "nbformat_minor": 0,
  "metadata": {
    "colab": {
      "provenance": [],
      "collapsed_sections": [
        "tOgtj5NPRdhC",
        "KonwunJsRUbf",
        "kjh4KKnWS3Wo",
        "hmucw6qtTVZT",
        "ivl4gboNV9xL"
      ]
    },
    "kernelspec": {
      "name": "python3",
      "display_name": "Python 3"
    },
    "language_info": {
      "name": "python"
    }
  },
  "cells": [
    {
      "cell_type": "markdown",
      "source": [
        "# **ANÁLISE DE DADOS - SUPERSTORE**\n",
        "\n",
        "**PROJETO:** Análise completa de desempenho de vendas e lucratividade\n",
        "\n",
        "**PERÍODO:** 2014-2017 (4 anos de dados históricos)\n",
        "\n",
        "**DATASET:** 9.994 transações, 19 variáveis, 793 clientes únicos\n",
        "\n",
        "**OBJETIVO:** Identificar oportunidades de melhoria e insights estratégicos"
      ],
      "metadata": {
        "id": "WmuAczkJXfw1"
      }
    },
    {
      "cell_type": "markdown",
      "source": [
        "# **FASE 1: PREPARAÇÃO E ENTENDIMENTO DOS DADOS**"
      ],
      "metadata": {
        "id": "tOgtj5NPRdhC"
      }
    },
    {
      "cell_type": "markdown",
      "source": [
        " 1: Importação de Bibliotecas"
      ],
      "metadata": {
        "id": "aldYNidBMR5U"
      }
    },
    {
      "cell_type": "code",
      "source": [
        "# Bibliotecas básicas\n",
        "import pandas as pd\n",
        "import numpy as np\n",
        "\n",
        "# Visualização\n",
        "import matplotlib.pyplot as plt\n",
        "import seaborn as sns\n",
        "\n",
        "# Configurações de visualização\n",
        "plt.style.use('seaborn-v0_8')\n",
        "sns.set_palette(\"husl\")\n",
        "%matplotlib inline\n",
        "\n",
        "# Ignorar warnings\n",
        "import warnings\n",
        "warnings.filterwarnings('ignore')\n",
        "\n",
        "print(\"✅ Bibliotecas importadas com sucesso!\")\n",
        "print(\"📊 Versão do pandas:\", pd.__version__)"
      ],
      "metadata": {
        "colab": {
          "base_uri": "https://localhost:8080/"
        },
        "id": "rJpPAviuLXXg",
        "outputId": "8125b994-fa90-4122-c8a7-67de9d6714ff"
      },
      "execution_count": 6,
      "outputs": [
        {
          "output_type": "stream",
          "name": "stdout",
          "text": [
            "✅ Bibliotecas importadas com sucesso!\n",
            "📊 Versão do pandas: 2.2.2\n"
          ]
        }
      ]
    },
    {
      "cell_type": "markdown",
      "source": [
        "Carregamento dos Dados"
      ],
      "metadata": {
        "id": "wJ19weQqPQrl"
      }
    },
    {
      "cell_type": "code",
      "source": [
        "# Carregar o dataset\n",
        "df = pd.read_csv('/content/Sample_Superstore.csv')\n",
        "\n",
        "# Verificar se carregou corretamente\n",
        "print(\"✅ Dataset carregado com sucesso!\")\n",
        "print(f\"📈 Dimensões do dataset: {df.shape[0]} linhas e {df.shape[1]} colunas\")\n",
        "\n",
        "# Nome das colunas\n",
        "print(\"\\n📋 Colunas disponíveis:\")\n",
        "print(df.columns.tolist())"
      ],
      "metadata": {
        "colab": {
          "base_uri": "https://localhost:8080/"
        },
        "id": "xhYpV-i8PQUa",
        "outputId": "eb8aa986-842f-4649-edaf-0e37b481b54a"
      },
      "execution_count": 7,
      "outputs": [
        {
          "output_type": "stream",
          "name": "stdout",
          "text": [
            "✅ Dataset carregado com sucesso!\n",
            "📈 Dimensões do dataset: 9994 linhas e 19 colunas\n",
            "\n",
            "📋 Colunas disponíveis:\n",
            "['Row ID', 'Order ID', 'Order Date', 'Ship Date', 'Ship Mode', 'Customer ID', 'Segment', 'Country', 'City', 'State', 'Region', 'Product ID', 'Category', 'Sub-Category', 'Product Name', 'Sales', 'Quantity', 'Discount', 'Profit']\n"
          ]
        }
      ]
    },
    {
      "cell_type": "markdown",
      "source": [
        "Primeira Inspeção dos Dados"
      ],
      "metadata": {
        "id": "Wqhv4TMZPruM"
      }
    },
    {
      "cell_type": "code",
      "source": [
        "# Primeiras 5 linhas do dataset\n",
        "print(\"Primeiras 5 linhas do dataset:\")\n",
        "print(df.head())\n",
        "\n",
        "print(\"\\n\" + \"=\"*50)\n",
        "print(\"Ultimas 5 linhas do dataset:\")\n",
        "print(df.tail())"
      ],
      "metadata": {
        "colab": {
          "base_uri": "https://localhost:8080/"
        },
        "id": "s2rS5rkRPQRt",
        "outputId": "248818a1-4a31-4a0d-e500-d52c2e88b772"
      },
      "execution_count": 8,
      "outputs": [
        {
          "output_type": "stream",
          "name": "stdout",
          "text": [
            "Primeiras 5 linhas do dataset:\n",
            "   Row ID        Order ID  Order Date   Ship Date       Ship Mode Customer ID  \\\n",
            "0       1  CA-2016-152156  11-08-2016  11-11-2016    Second Class    CG-12520   \n",
            "1       2  CA-2016-152156  11-08-2016  11-11-2016    Second Class    CG-12520   \n",
            "2       3  CA-2016-138688  06-12-2016   6/16/2016    Second Class    DV-13045   \n",
            "3       4  US-2015-108966  10-11-2015  10/18/2015  Standard Class    SO-20335   \n",
            "4       5  US-2015-108966  10-11-2015  10/18/2015  Standard Class    SO-20335   \n",
            "\n",
            "     Segment        Country             City       State Region  \\\n",
            "0   Consumer  United States        Henderson    Kentucky  South   \n",
            "1   Consumer  United States        Henderson    Kentucky  South   \n",
            "2  Corporate  United States      Los Angeles  California   West   \n",
            "3   Consumer  United States  Fort Lauderdale     Florida  South   \n",
            "4   Consumer  United States  Fort Lauderdale     Florida  South   \n",
            "\n",
            "        Product ID         Category Sub-Category  \\\n",
            "0  FUR-BO-10001798        Furniture    Bookcases   \n",
            "1  FUR-CH-10000454        Furniture       Chairs   \n",
            "2  OFF-LA-10000240  Office Supplies       Labels   \n",
            "3  FUR-TA-10000577        Furniture       Tables   \n",
            "4  OFF-ST-10000760  Office Supplies      Storage   \n",
            "\n",
            "                                        Product Name     Sales  Quantity  \\\n",
            "0                  Bush Somerset Collection Bookcase  261.9600         2   \n",
            "1  Hon Deluxe Fabric Upholstered Stacking Chairs,...  731.9400         3   \n",
            "2  Self-Adhesive Address Labels for Typewriters b...   14.6200         2   \n",
            "3      Bretford CR4500 Series Slim Rectangular Table  957.5775         5   \n",
            "4                     Eldon Fold 'N Roll Cart System   22.3680         2   \n",
            "\n",
            "   Discount    Profit  \n",
            "0      0.00   41.9136  \n",
            "1      0.00  219.5820  \n",
            "2      0.00    6.8714  \n",
            "3      0.45 -383.0310  \n",
            "4      0.20    2.5164  \n",
            "\n",
            "==================================================\n",
            "Ultimas 5 linhas do dataset:\n",
            "      Row ID        Order ID  Order Date   Ship Date       Ship Mode  \\\n",
            "9989    9990  CA-2014-110422   1/21/2014   1/23/2014    Second Class   \n",
            "9990    9991  CA-2017-121258   2/26/2017  03-03-2017  Standard Class   \n",
            "9991    9992  CA-2017-121258   2/26/2017  03-03-2017  Standard Class   \n",
            "9992    9993  CA-2017-121258   2/26/2017  03-03-2017  Standard Class   \n",
            "9993    9994  CA-2017-119914  05-04-2017  05-09-2017    Second Class   \n",
            "\n",
            "     Customer ID   Segment        Country         City       State Region  \\\n",
            "9989    TB-21400  Consumer  United States        Miami     Florida  South   \n",
            "9990    DB-13060  Consumer  United States   Costa Mesa  California   West   \n",
            "9991    DB-13060  Consumer  United States   Costa Mesa  California   West   \n",
            "9992    DB-13060  Consumer  United States   Costa Mesa  California   West   \n",
            "9993    CC-12220  Consumer  United States  Westminster  California   West   \n",
            "\n",
            "           Product ID         Category Sub-Category  \\\n",
            "9989  FUR-FU-10001889        Furniture  Furnishings   \n",
            "9990  FUR-FU-10000747        Furniture  Furnishings   \n",
            "9991  TEC-PH-10003645       Technology       Phones   \n",
            "9992  OFF-PA-10004041  Office Supplies        Paper   \n",
            "9993  OFF-AP-10002684  Office Supplies   Appliances   \n",
            "\n",
            "                                           Product Name    Sales  Quantity  \\\n",
            "9989                             Ultra Door Pull Handle   25.248         3   \n",
            "9990  Tenex B1-RE Series Chair Mats for Low Pile Car...   91.960         2   \n",
            "9991                              Aastra 57i VoIP phone  258.576         2   \n",
            "9992  It's Hot Message Books with Stickers, 2 3/4\" x 5\"   29.600         4   \n",
            "9993  Acco 7-Outlet Masterpiece Power Center, Wihtou...  243.160         2   \n",
            "\n",
            "      Discount   Profit  \n",
            "9989       0.2   4.1028  \n",
            "9990       0.0  15.6332  \n",
            "9991       0.2  19.3932  \n",
            "9992       0.0  13.3200  \n",
            "9993       0.0  72.9480  \n"
          ]
        }
      ]
    },
    {
      "cell_type": "markdown",
      "source": [
        "Informações Gerais e Tipos de Dados"
      ],
      "metadata": {
        "id": "3UGT1uNJP2Bq"
      }
    },
    {
      "cell_type": "code",
      "source": [
        "# Informações sobre tipos de dados e valores nulos\n",
        "print(\"INFORMACOES GERAIS DO DATASET:\")\n",
        "print(df.info())\n",
        "\n",
        "print(\"\\n\" + \"=\"*50)\n",
        "print(\"TIPOS DE DADOS:\")\n",
        "print(df.dtypes)"
      ],
      "metadata": {
        "colab": {
          "base_uri": "https://localhost:8080/"
        },
        "id": "cgfMD7mpPQPN",
        "outputId": "7418a087-3efe-466f-ff20-b9b6211dfc9d"
      },
      "execution_count": 9,
      "outputs": [
        {
          "output_type": "stream",
          "name": "stdout",
          "text": [
            "INFORMACOES GERAIS DO DATASET:\n",
            "<class 'pandas.core.frame.DataFrame'>\n",
            "RangeIndex: 9994 entries, 0 to 9993\n",
            "Data columns (total 19 columns):\n",
            " #   Column        Non-Null Count  Dtype  \n",
            "---  ------        --------------  -----  \n",
            " 0   Row ID        9994 non-null   int64  \n",
            " 1   Order ID      9994 non-null   object \n",
            " 2   Order Date    9994 non-null   object \n",
            " 3   Ship Date     9994 non-null   object \n",
            " 4   Ship Mode     9994 non-null   object \n",
            " 5   Customer ID   9994 non-null   object \n",
            " 6   Segment       9994 non-null   object \n",
            " 7   Country       9994 non-null   object \n",
            " 8   City          9994 non-null   object \n",
            " 9   State         9994 non-null   object \n",
            " 10  Region        9994 non-null   object \n",
            " 11  Product ID    9994 non-null   object \n",
            " 12  Category      9994 non-null   object \n",
            " 13  Sub-Category  9994 non-null   object \n",
            " 14  Product Name  9994 non-null   object \n",
            " 15  Sales         9994 non-null   float64\n",
            " 16  Quantity      9994 non-null   int64  \n",
            " 17  Discount      9994 non-null   float64\n",
            " 18  Profit        9994 non-null   float64\n",
            "dtypes: float64(3), int64(2), object(14)\n",
            "memory usage: 1.4+ MB\n",
            "None\n",
            "\n",
            "==================================================\n",
            "TIPOS DE DADOS:\n",
            "Row ID            int64\n",
            "Order ID         object\n",
            "Order Date       object\n",
            "Ship Date        object\n",
            "Ship Mode        object\n",
            "Customer ID      object\n",
            "Segment          object\n",
            "Country          object\n",
            "City             object\n",
            "State            object\n",
            "Region           object\n",
            "Product ID       object\n",
            "Category         object\n",
            "Sub-Category     object\n",
            "Product Name     object\n",
            "Sales           float64\n",
            "Quantity          int64\n",
            "Discount        float64\n",
            "Profit          float64\n",
            "dtype: object\n"
          ]
        }
      ]
    },
    {
      "cell_type": "markdown",
      "source": [
        "Estatísticas Descritivas"
      ],
      "metadata": {
        "id": "iNBO7fbfQHMW"
      }
    },
    {
      "cell_type": "code",
      "source": [
        "# Estatísticas descritivas das colunas numéricas\n",
        "print(\"ESTATISTICAS DESCRITIVAS - COLUNAS NUMERICAS:\")\n",
        "print(df.describe())\n",
        "\n",
        "print(\"\\n\" + \"=\"*50)\n",
        "print(\"ESTATISTICAS DESCRITIVAS - COLUNAS CATEGORICAS:\")\n",
        "print(df.describe(include=['object']))"
      ],
      "metadata": {
        "colab": {
          "base_uri": "https://localhost:8080/"
        },
        "id": "Ru-UmSjKPQMs",
        "outputId": "d4334cb6-bfc9-4882-f890-113541a47be0"
      },
      "execution_count": 10,
      "outputs": [
        {
          "output_type": "stream",
          "name": "stdout",
          "text": [
            "ESTATISTICAS DESCRITIVAS - COLUNAS NUMERICAS:\n",
            "            Row ID         Sales     Quantity     Discount       Profit\n",
            "count  9994.000000   9994.000000  9994.000000  9994.000000  9994.000000\n",
            "mean   4997.500000    229.858001     3.789574     0.156203    28.656896\n",
            "std    2885.163629    623.245101     2.225110     0.206452   234.260108\n",
            "min       1.000000      0.444000     1.000000     0.000000 -6599.978000\n",
            "25%    2499.250000     17.280000     2.000000     0.000000     1.728750\n",
            "50%    4997.500000     54.490000     3.000000     0.200000     8.666500\n",
            "75%    7495.750000    209.940000     5.000000     0.200000    29.364000\n",
            "max    9994.000000  22638.480000    14.000000     0.800000  8399.976000\n",
            "\n",
            "==================================================\n",
            "ESTATISTICAS DESCRITIVAS - COLUNAS CATEGORICAS:\n",
            "              Order ID  Order Date   Ship Date       Ship Mode Customer ID  \\\n",
            "count             9994        9994        9994            9994        9994   \n",
            "unique            5009        1237        1334               4         793   \n",
            "top     CA-2017-100111  09-05-2016  12/16/2015  Standard Class    WB-21850   \n",
            "freq                14          38          35            5968          37   \n",
            "\n",
            "         Segment        Country           City       State Region  \\\n",
            "count       9994           9994           9994        9994   9994   \n",
            "unique         3              1            531          49      4   \n",
            "top     Consumer  United States  New York City  California   West   \n",
            "freq        5191           9994            915        2001   3203   \n",
            "\n",
            "             Product ID         Category Sub-Category     Product Name  \n",
            "count              9994             9994         9994             9994  \n",
            "unique             1862                3           17             1850  \n",
            "top     OFF-PA-10001970  Office Supplies      Binders  Staple envelope  \n",
            "freq                 19             6026         1523               48  \n"
          ]
        }
      ]
    },
    {
      "cell_type": "markdown",
      "source": [
        "Verificação de Qualidade dos Dados"
      ],
      "metadata": {
        "id": "FygCupJvQjtd"
      }
    },
    {
      "cell_type": "code",
      "source": [
        "# Verificar valores nulos\n",
        "print(\"VERIFICACAO DE VALORES NULOS:\")\n",
        "print(df.isnull().sum())\n",
        "\n",
        "print(\"\\n\" + \"=\"*50)\n",
        "print(\"VERIFICACAO DE LINHAS DUPLICADAS:\")\n",
        "duplicados = df.duplicated().sum()\n",
        "print(f\"Linhas duplicadas: {duplicados}\")\n",
        "\n",
        "print(\"\\n\" + \"=\"*50)\n",
        "print(\"VALORES UNICOS EM COLUNAS CATEGORICAS:\")\n",
        "categorical_cols = ['Ship Mode', 'Segment', 'Region', 'Category', 'Sub-Category']\n",
        "for col in categorical_cols:\n",
        "    print(f\"{col}: {df[col].unique()}\")\n",
        "    print(f\"Quantidade: {df[col].nunique()}\")\n",
        "    print(\"-\" * 30)"
      ],
      "metadata": {
        "colab": {
          "base_uri": "https://localhost:8080/"
        },
        "id": "K4RNV0JXQkuo",
        "outputId": "68301585-27d1-4058-b09b-daca041514b2"
      },
      "execution_count": 11,
      "outputs": [
        {
          "output_type": "stream",
          "name": "stdout",
          "text": [
            "VERIFICACAO DE VALORES NULOS:\n",
            "Row ID          0\n",
            "Order ID        0\n",
            "Order Date      0\n",
            "Ship Date       0\n",
            "Ship Mode       0\n",
            "Customer ID     0\n",
            "Segment         0\n",
            "Country         0\n",
            "City            0\n",
            "State           0\n",
            "Region          0\n",
            "Product ID      0\n",
            "Category        0\n",
            "Sub-Category    0\n",
            "Product Name    0\n",
            "Sales           0\n",
            "Quantity        0\n",
            "Discount        0\n",
            "Profit          0\n",
            "dtype: int64\n",
            "\n",
            "==================================================\n",
            "VERIFICACAO DE LINHAS DUPLICADAS:\n",
            "Linhas duplicadas: 0\n",
            "\n",
            "==================================================\n",
            "VALORES UNICOS EM COLUNAS CATEGORICAS:\n",
            "Ship Mode: ['Second Class' 'Standard Class' 'First Class' 'Same Day']\n",
            "Quantidade: 4\n",
            "------------------------------\n",
            "Segment: ['Consumer' 'Corporate' 'Home Office']\n",
            "Quantidade: 3\n",
            "------------------------------\n",
            "Region: ['South' 'West' 'Central' 'East']\n",
            "Quantidade: 4\n",
            "------------------------------\n",
            "Category: ['Furniture' 'Office Supplies' 'Technology']\n",
            "Quantidade: 3\n",
            "------------------------------\n",
            "Sub-Category: ['Bookcases' 'Chairs' 'Labels' 'Tables' 'Storage' 'Furnishings' 'Art'\n",
            " 'Phones' 'Binders' 'Appliances' 'Paper' 'Accessories' 'Envelopes'\n",
            " 'Fasteners' 'Supplies' 'Machines' 'Copiers']\n",
            "Quantidade: 17\n",
            "------------------------------\n"
          ]
        }
      ]
    },
    {
      "cell_type": "markdown",
      "source": [
        "Preparação das Datas"
      ],
      "metadata": {
        "id": "VWjpJ0_oRGUD"
      }
    },
    {
      "cell_type": "code",
      "source": [
        "# Converter colunas de data para datetime\n",
        "df['Order Date'] = pd.to_datetime(df['Order Date'], format='mixed')\n",
        "df['Ship Date'] = pd.to_datetime(df['Ship Date'], format='mixed')\n",
        "\n",
        "# Verificar se a conversão foi bem sucedida\n",
        "print(\"TIPOS DE DADOS APOS CONVERSAO:\")\n",
        "print(f\"Order Date: {df['Order Date'].dtype}\")\n",
        "print(f\"Ship Date: {df['Ship Date'].dtype}\")\n",
        "\n",
        "print(\"\\n\" + \"=\"*50)\n",
        "print(\"PERIODO DO DATASET:\")\n",
        "print(f\"Data do pedido mais antigo: {df['Order Date'].min()}\")\n",
        "print(f\"Data do pedido mais recente: {df['Order Date'].max()}\")\n",
        "print(f\"Range temporal: {(df['Order Date'].max() - df['Order Date'].min()).days} dias\")\n",
        "\n",
        "print(\"\\n\" + \"=\"*50)\n",
        "print(\"TEMPO MEDIO DE ENVIO:\")\n",
        "df['Shipping Time'] = (df['Ship Date'] - df['Order Date']).dt.days\n",
        "print(f\"Tempo medio de envio: {df['Shipping Time'].mean():.1f} dias\")"
      ],
      "metadata": {
        "colab": {
          "base_uri": "https://localhost:8080/"
        },
        "id": "OOVDmqipRGHY",
        "outputId": "e4e23ee0-ddf1-40dd-a1bd-1f2c04fba83b"
      },
      "execution_count": 12,
      "outputs": [
        {
          "output_type": "stream",
          "name": "stdout",
          "text": [
            "TIPOS DE DADOS APOS CONVERSAO:\n",
            "Order Date: datetime64[ns]\n",
            "Ship Date: datetime64[ns]\n",
            "\n",
            "==================================================\n",
            "PERIODO DO DATASET:\n",
            "Data do pedido mais antigo: 2014-01-03 00:00:00\n",
            "Data do pedido mais recente: 2017-12-30 00:00:00\n",
            "Range temporal: 1457 dias\n",
            "\n",
            "==================================================\n",
            "TEMPO MEDIO DE ENVIO:\n",
            "Tempo medio de envio: 4.0 dias\n"
          ]
        }
      ]
    },
    {
      "cell_type": "markdown",
      "source": [
        "# **FASE 2: ANÁLISE EXPLORATÓRIA**"
      ],
      "metadata": {
        "id": "KonwunJsRUbf"
      }
    },
    {
      "cell_type": "markdown",
      "source": [
        "Análise de Vendas por Categoria"
      ],
      "metadata": {
        "id": "aBpQB9hQRi6R"
      }
    },
    {
      "cell_type": "code",
      "source": [
        "# Análise de vendas por categoria\n",
        "print(\"ANALISE DE VENDAS POR CATEGORIA:\")\n",
        "vendas_categoria = df.groupby('Category').agg({\n",
        "    'Sales': ['sum', 'mean', 'count'],\n",
        "    'Profit': 'sum',\n",
        "    'Quantity': 'sum'\n",
        "}).round(2)\n",
        "\n",
        "vendas_categoria.columns = ['Total Vendas', 'Venda Media', 'Qtd Pedidos', 'Total Lucro', 'Total Quantidade']\n",
        "print(vendas_categoria)\n",
        "\n",
        "print(\"\\n\" + \"=\"*50)\n",
        "print(\"DISTRIBUICAO DE PEDIDOS POR CATEGORIA:\")\n",
        "distribuicao = df['Category'].value_counts()\n",
        "print(distribuicao)"
      ],
      "metadata": {
        "colab": {
          "base_uri": "https://localhost:8080/"
        },
        "id": "o7g5hBdSRGE_",
        "outputId": "318f9a22-6727-4eae-ff93-755fd579825f"
      },
      "execution_count": 14,
      "outputs": [
        {
          "output_type": "stream",
          "name": "stdout",
          "text": [
            "ANALISE DE VENDAS POR CATEGORIA:\n",
            "                 Total Vendas  Venda Media  Qtd Pedidos  Total Lucro  \\\n",
            "Category                                                               \n",
            "Furniture           741999.80       349.83         2121     18451.27   \n",
            "Office Supplies     719047.03       119.32         6026    122490.80   \n",
            "Technology          836154.03       452.71         1847    145454.95   \n",
            "\n",
            "                 Total Quantidade  \n",
            "Category                           \n",
            "Furniture                    8028  \n",
            "Office Supplies             22906  \n",
            "Technology                   6939  \n",
            "\n",
            "==================================================\n",
            "DISTRIBUICAO DE PEDIDOS POR CATEGORIA:\n",
            "Category\n",
            "Office Supplies    6026\n",
            "Furniture          2121\n",
            "Technology         1847\n",
            "Name: count, dtype: int64\n"
          ]
        }
      ]
    },
    {
      "cell_type": "markdown",
      "source": [
        "Análise de Vendas por Subcategoria"
      ],
      "metadata": {
        "id": "7M-r420gSZYc"
      }
    },
    {
      "cell_type": "code",
      "source": [
        "# Análise detalhada por subcategoria\n",
        "print(\"TOP 10 SUBCATEGORIAS POR VENDAS:\")\n",
        "vendas_subcategoria = df.groupby('Sub-Category').agg({\n",
        "    'Sales': 'sum',\n",
        "    'Profit': 'sum',\n",
        "    'Quantity': 'sum',\n",
        "    'Order ID': 'count'\n",
        "}).round(2)\n",
        "\n",
        "vendas_subcategoria = vendas_subcategoria.rename(columns={'Order ID': 'Qtd Pedidos'})\n",
        "vendas_subcategoria = vendas_subcategoria.sort_values('Sales', ascending=False)\n",
        "print(vendas_subcategoria.head(10))\n",
        "\n",
        "print(\"\\n\" + \"=\"*50)\n",
        "print(\"SUBCATEGORIAS COM LUCRO NEGATIVO:\")\n",
        "lucro_negativo = vendas_subcategoria[vendas_subcategoria['Profit'] < 0]\n",
        "print(lucro_negativo)"
      ],
      "metadata": {
        "colab": {
          "base_uri": "https://localhost:8080/"
        },
        "id": "O7GGKCaDSWLd",
        "outputId": "1e4b1f0b-ddd5-4cc8-bcc7-ed2fa3568722"
      },
      "execution_count": 15,
      "outputs": [
        {
          "output_type": "stream",
          "name": "stdout",
          "text": [
            "TOP 10 SUBCATEGORIAS POR VENDAS:\n",
            "                  Sales    Profit  Quantity  Qtd Pedidos\n",
            "Sub-Category                                            \n",
            "Phones        330007.05  44515.73      3289          889\n",
            "Chairs        328449.10  26590.17      2356          617\n",
            "Storage       223843.61  21278.83      3158          846\n",
            "Tables        206965.53 -17725.48      1241          319\n",
            "Binders       203412.73  30221.76      5974         1523\n",
            "Machines      189238.63   3384.76       440          115\n",
            "Accessories   167380.32  41936.64      2976          775\n",
            "Copiers       149528.03  55617.82       234           68\n",
            "Bookcases     114880.00  -3472.56       868          228\n",
            "Appliances    107532.16  18138.01      1729          466\n",
            "\n",
            "==================================================\n",
            "SUBCATEGORIAS COM LUCRO NEGATIVO:\n",
            "                  Sales    Profit  Quantity  Qtd Pedidos\n",
            "Sub-Category                                            \n",
            "Tables        206965.53 -17725.48      1241          319\n",
            "Bookcases     114880.00  -3472.56       868          228\n",
            "Supplies       46673.54  -1189.10       647          190\n"
          ]
        }
      ]
    },
    {
      "cell_type": "markdown",
      "source": [
        "Análise por Região e Estado"
      ],
      "metadata": {
        "id": "W_RfUcPhSoZJ"
      }
    },
    {
      "cell_type": "code",
      "source": [
        "# Análise por região\n",
        "print(\"DESEMPENHO POR REGIAO:\")\n",
        "performance_regiao = df.groupby('Region').agg({\n",
        "    'Sales': 'sum',\n",
        "    'Profit': 'sum',\n",
        "    'Order ID': 'count'\n",
        "}).round(2)\n",
        "\n",
        "performance_regiao = performance_regiao.rename(columns={'Order ID': 'Qtd Pedidos'})\n",
        "performance_regiao['Margem Lucro'] = (performance_regiao['Profit'] / performance_regiao['Sales'] * 100).round(2)\n",
        "print(performance_regiao)\n",
        "\n",
        "print(\"\\n\" + \"=\"*50)\n",
        "print(\"TOP 10 ESTADOS POR LUCRO:\")\n",
        "lucro_estado = df.groupby('State')['Profit'].sum().sort_values(ascending=False).head(10)\n",
        "print(lucro_estado)\n",
        "\n",
        "print(\"\\n\" + \"=\"*50)\n",
        "print(\"TOP 10 ESTADOS COM PREJUIZO:\")\n",
        "prejuizo_estado = df.groupby('State')['Profit'].sum().sort_values().head(10)\n",
        "print(prejuizo_estado)"
      ],
      "metadata": {
        "colab": {
          "base_uri": "https://localhost:8080/"
        },
        "id": "4esNV0YRSWD8",
        "outputId": "39cbcf69-d612-4332-a8be-621923120942"
      },
      "execution_count": 16,
      "outputs": [
        {
          "output_type": "stream",
          "name": "stdout",
          "text": [
            "DESEMPENHO POR REGIAO:\n",
            "             Sales     Profit  Qtd Pedidos  Margem Lucro\n",
            "Region                                                  \n",
            "Central  501239.89   39706.36         2323          7.92\n",
            "East     678781.24   91522.78         2848         13.48\n",
            "South    391721.90   46749.43         1620         11.93\n",
            "West     725457.82  108418.45         3203         14.94\n",
            "\n",
            "==================================================\n",
            "TOP 10 ESTADOS POR LUCRO:\n",
            "State\n",
            "California    76381.3871\n",
            "New York      74038.5486\n",
            "Washington    33402.6517\n",
            "Michigan      24463.1876\n",
            "Virginia      18597.9504\n",
            "Indiana       18382.9363\n",
            "Georgia       16250.0433\n",
            "Kentucky      11199.6966\n",
            "Minnesota     10823.1874\n",
            "Delaware       9977.3748\n",
            "Name: Profit, dtype: float64\n",
            "\n",
            "==================================================\n",
            "TOP 10 ESTADOS COM PREJUIZO:\n",
            "State\n",
            "Texas            -25729.3563\n",
            "Ohio             -16971.3766\n",
            "Pennsylvania     -15559.9603\n",
            "Illinois         -12607.8870\n",
            "North Carolina    -7490.9122\n",
            "Colorado          -6527.8579\n",
            "Tennessee         -5341.6936\n",
            "Arizona           -3427.9246\n",
            "Florida           -3399.3017\n",
            "Oregon            -1190.4705\n",
            "Name: Profit, dtype: float64\n"
          ]
        }
      ]
    },
    {
      "cell_type": "markdown",
      "source": [
        "Análise por Segmento de Cliente"
      ],
      "metadata": {
        "id": "aek1k_uzSw3U"
      }
    },
    {
      "cell_type": "code",
      "source": [
        "# Análise por segmento de cliente\n",
        "print(\"DESEMPENHO POR SEGMENTO DE CLIENTE:\")\n",
        "performance_segmento = df.groupby('Segment').agg({\n",
        "    'Sales': 'sum',\n",
        "    'Profit': 'sum',\n",
        "    'Order ID': 'count',\n",
        "    'Customer ID': 'nunique'\n",
        "}).round(2)\n",
        "\n",
        "performance_segmento = performance_segmento.rename(columns={\n",
        "    'Order ID': 'Qtd Pedidos',\n",
        "    'Customer ID': 'Qtd Clientes Unicos'\n",
        "})\n",
        "\n",
        "performance_segmento['Ticket Medio'] = (performance_segmento['Sales'] / performance_segmento['Qtd Pedidos']).round(2)\n",
        "performance_segmento['Lucro por Pedido'] = (performance_segmento['Profit'] / performance_segmento['Qtd Pedidos']).round(2)\n",
        "\n",
        "print(performance_segmento)\n",
        "\n",
        "print(\"\\n\" + \"=\"*50)\n",
        "print(\"TOP 10 CLIENTES MAIS VALIOSOS:\")\n",
        "clientes_valiosos = df.groupby('Customer ID').agg({\n",
        "    'Sales': 'sum',\n",
        "    'Profit': 'sum',\n",
        "    'Order ID': 'count'\n",
        "}).round(2)\n",
        "\n",
        "clientes_valiosos = clientes_valiosos.rename(columns={'Order ID': 'Qtd Pedidos'})\n",
        "clientes_valiosos = clientes_valiosos.sort_values('Profit', ascending=False).head(10)\n",
        "print(clientes_valiosos)"
      ],
      "metadata": {
        "colab": {
          "base_uri": "https://localhost:8080/"
        },
        "id": "eP8prY4OQkWN",
        "outputId": "d700f21f-f51c-409b-a7a3-aa1b498f290d"
      },
      "execution_count": 17,
      "outputs": [
        {
          "output_type": "stream",
          "name": "stdout",
          "text": [
            "DESEMPENHO POR SEGMENTO DE CLIENTE:\n",
            "                  Sales     Profit  Qtd Pedidos  Qtd Clientes Unicos  \\\n",
            "Segment                                                                \n",
            "Consumer     1161401.34  134119.21         5191                  409   \n",
            "Corporate     706146.37   91979.13         3020                  236   \n",
            "Home Office   429653.15   60298.68         1783                  148   \n",
            "\n",
            "             Ticket Medio  Lucro por Pedido  \n",
            "Segment                                      \n",
            "Consumer           223.73             25.84  \n",
            "Corporate          233.82             30.46  \n",
            "Home Office        240.97             33.82  \n",
            "\n",
            "==================================================\n",
            "TOP 10 CLIENTES MAIS VALIOSOS:\n",
            "                Sales   Profit  Qtd Pedidos\n",
            "Customer ID                                \n",
            "TC-20980     19052.22  8981.32           12\n",
            "RB-19360     15117.34  6976.10           18\n",
            "SC-20095     14142.33  5757.41           22\n",
            "HL-15040     12873.30  5622.43           11\n",
            "AB-10105     14473.57  5444.81           20\n",
            "TA-21385     14595.62  4703.79           10\n",
            "CM-12385      8954.02  3899.89           10\n",
            "KD-16495      8181.26  3038.63           28\n",
            "AR-10540      6608.45  2884.62            9\n",
            "DR-12940      8350.87  2869.08           13\n"
          ]
        }
      ]
    },
    {
      "cell_type": "markdown",
      "source": [
        "# **FASE 3: ANÁLISE DE PERFORMANCE**"
      ],
      "metadata": {
        "id": "kjh4KKnWS3Wo"
      }
    },
    {
      "cell_type": "markdown",
      "source": [
        "Análise de Descontos vs Lucro"
      ],
      "metadata": {
        "id": "FYoHe7UXTAKe"
      }
    },
    {
      "cell_type": "code",
      "source": [
        "# Análise do impacto dos descontos no lucro\n",
        "print(\"IMPACTO DOS DESCONTOS NO LUCRO:\")\n",
        "df['Discount Range'] = pd.cut(df['Discount'],\n",
        "                           bins=[0, 0.1, 0.3, 0.5, 1],\n",
        "                           labels=['0-10%', '10-30%', '30-50%', '50-100%'])\n",
        "\n",
        "impacto_desconto = df.groupby('Discount Range').agg({\n",
        "    'Sales': 'sum',\n",
        "    'Profit': 'sum',\n",
        "    'Order ID': 'count',\n",
        "    'Discount': 'mean'\n",
        "}).round(2)\n",
        "\n",
        "impacto_desconto = impacto_desconto.rename(columns={'Order ID': 'Qtd Pedidos'})\n",
        "impacto_desconto['Margem Lucro'] = (impacto_desconto['Profit'] / impacto_desconto['Sales'] * 100).round(2)\n",
        "print(impacto_desconto)\n",
        "\n",
        "print(\"\\n\" + \"=\"*50)\n",
        "print(\"CORRELACAO ENTRE VARIAVEIS NUMERICAS:\")\n",
        "correlacao = df[['Sales', 'Quantity', 'Discount', 'Profit']].corr()\n",
        "print(correlacao.round(3))"
      ],
      "metadata": {
        "colab": {
          "base_uri": "https://localhost:8080/"
        },
        "id": "kZr7j9N8S5v5",
        "outputId": "c609daf7-a466-4c23-919e-6758244ff03f"
      },
      "execution_count": 18,
      "outputs": [
        {
          "output_type": "stream",
          "name": "stdout",
          "text": [
            "IMPACTO DOS DESCONTOS NO LUCRO:\n",
            "                    Sales    Profit  Qtd Pedidos  Discount  Margem Lucro\n",
            "Discount Range                                                          \n",
            "0-10%            54369.35   9029.18           94      0.10         16.61\n",
            "10-30%          895379.54  81387.02         3936      0.21          9.09\n",
            "30-50%          195314.76 -48447.73          310      0.42        -24.80\n",
            "50-100%          64228.74 -76559.05          856      0.72       -119.20\n",
            "\n",
            "==================================================\n",
            "CORRELACAO ENTRE VARIAVEIS NUMERICAS:\n",
            "          Sales  Quantity  Discount  Profit\n",
            "Sales     1.000     0.201    -0.028   0.479\n",
            "Quantity  0.201     1.000     0.009   0.066\n",
            "Discount -0.028     0.009     1.000  -0.219\n",
            "Profit    0.479     0.066    -0.219   1.000\n"
          ]
        }
      ]
    },
    {
      "cell_type": "markdown",
      "source": [
        "Análise de Sazonalidade"
      ],
      "metadata": {
        "id": "cvFFEYfITG84"
      }
    },
    {
      "cell_type": "code",
      "source": [
        "# Extrair ano e mês para análise temporal\n",
        "df['Order Year'] = df['Order Date'].dt.year\n",
        "df['Order Month'] = df['Order Date'].dt.month\n",
        "df['Order YearMonth'] = df['Order Date'].dt.to_period('M')\n",
        "\n",
        "# Análise de vendas por ano\n",
        "print(\"VENDAS E LUCRO POR ANO:\")\n",
        "vendas_ano = df.groupby('Order Year').agg({\n",
        "    'Sales': 'sum',\n",
        "    'Profit': 'sum',\n",
        "    'Order ID': 'count'\n",
        "}).round(2)\n",
        "\n",
        "vendas_ano = vendas_ano.rename(columns={'Order ID': 'Qtd Pedidos'})\n",
        "vendas_ano['Crescimento Vendas'] = vendas_ano['Sales'].pct_change() * 100\n",
        "vendas_ano['Margem Lucro'] = (vendas_ano['Profit'] / vendas_ano['Sales'] * 100).round(2)\n",
        "print(vendas_ano)\n",
        "\n",
        "print(\"\\n\" + \"=\"*50)\n",
        "print(\"VENDAS POR MES (MEDIA):\")\n",
        "vendas_mes = df.groupby('Order Month').agg({\n",
        "    'Sales': 'mean',\n",
        "    'Profit': 'mean',\n",
        "    'Order ID': 'count'\n",
        "}).round(2)\n",
        "\n",
        "vendas_mes = vendas_mes.rename(columns={'Order ID': 'Qtd Pedidos'})\n",
        "print(vendas_mes)"
      ],
      "metadata": {
        "colab": {
          "base_uri": "https://localhost:8080/"
        },
        "id": "S_fh_-ZMTHPO",
        "outputId": "5b6aecaf-2665-4912-9b02-e529db48709f"
      },
      "execution_count": 19,
      "outputs": [
        {
          "output_type": "stream",
          "name": "stdout",
          "text": [
            "VENDAS E LUCRO POR ANO:\n",
            "                Sales    Profit  Qtd Pedidos  Crescimento Vendas  Margem Lucro\n",
            "Order Year                                                                    \n",
            "2014        484247.50  49543.97         1993                 NaN         10.23\n",
            "2015        470532.51  61618.60         2102           -2.832227         13.10\n",
            "2016        609205.60  81795.17         2587           29.471522         13.43\n",
            "2017        733215.26  93439.27         3312           20.355962         12.74\n",
            "\n",
            "==================================================\n",
            "VENDAS POR MES (MEDIA):\n",
            "              Sales  Profit  Qtd Pedidos\n",
            "Order Month                             \n",
            "1            249.15   23.97          381\n",
            "2            199.17   34.32          300\n",
            "3            294.55   41.08          696\n",
            "4            206.23   17.35          668\n",
            "5            210.92   30.49          735\n",
            "6            213.00   29.69          717\n",
            "7            207.38   19.48          710\n",
            "8            225.27   30.85          706\n",
            "9            222.45   26.65         1383\n",
            "10           244.59   38.81          819\n",
            "11           239.61   24.11         1471\n",
            "12           231.03   30.80         1408\n"
          ]
        }
      ]
    },
    {
      "cell_type": "markdown",
      "source": [
        "# **FASE 4: VISUALIZAÇÕES E INSIGHTS**"
      ],
      "metadata": {
        "id": "hmucw6qtTVZT"
      }
    },
    {
      "cell_type": "markdown",
      "source": [
        "Vendas e Lucro por Categoria"
      ],
      "metadata": {
        "id": "Cyrj4DnlTh7L"
      }
    },
    {
      "cell_type": "code",
      "source": [
        "# Gráfico 1: Vendas e Lucro por Categoria\n",
        "plt.figure(figsize=(10, 6))\n",
        "categoria_data = df.groupby('Category')[['Sales', 'Profit']].sum()\n",
        "categoria_data.plot(kind='bar')\n",
        "plt.title('Vendas e Lucro por Categoria')\n",
        "plt.xlabel('Categoria')\n",
        "plt.ylabel('Valor ($)')\n",
        "plt.xticks(rotation=45)\n",
        "plt.grid(True, alpha=0.3)\n",
        "plt.tight_layout()\n",
        "plt.show()"
      ],
      "metadata": {
        "colab": {
          "base_uri": "https://localhost:8080/",
          "height": 575
        },
        "id": "QY9cmPBEUIS9",
        "outputId": "9fd02073-5c65-49c1-af91-ad6f98c9262e"
      },
      "execution_count": 20,
      "outputs": [
        {
          "output_type": "display_data",
          "data": {
            "text/plain": [
              "<Figure size 1000x600 with 0 Axes>"
            ]
          },
          "metadata": {}
        },
        {
          "output_type": "display_data",
          "data": {
            "text/plain": [
              "<Figure size 800x550 with 1 Axes>"
            ],
            "image/png": "[encoded data removed]"
          },
          "metadata": {}
        }
      ]
    },
    {
      "cell_type": "markdown",
      "source": [
        "Top 10 Subcategorias por Lucro"
      ],
      "metadata": {
        "id": "FJmfysKqUtaE"
      }
    },
    {
      "cell_type": "code",
      "source": [
        "# Gráfico 2: Lucro por Subcategoria (Top 10)\n",
        "plt.figure(figsize=(10, 6))\n",
        "lucro_sub = df.groupby('Sub-Category')['Profit'].sum().sort_values(ascending=False).head(10)\n",
        "lucro_sub.plot(kind='bar', color=['green' if x > 0 else 'red' for x in lucro_sub])\n",
        "plt.title('Top 10 Subcategorias por Lucro')\n",
        "plt.xlabel('Subcategoria')\n",
        "plt.ylabel('Lucro ($)')\n",
        "plt.xticks(rotation=45)\n",
        "plt.grid(True, alpha=0.3)\n",
        "plt.tight_layout()\n",
        "plt.show()"
      ],
      "metadata": {
        "colab": {
          "base_uri": "https://localhost:8080/",
          "height": 607
        },
        "id": "9O-IDz5KTcRs",
        "outputId": "d84244e7-e466-4ab2-8820-580a9b7dbb7d"
      },
      "execution_count": 21,
      "outputs": [
        {
          "output_type": "display_data",
          "data": {
            "text/plain": [
              "<Figure size 1000x600 with 1 Axes>"
            ],
            "image/png": "[encoded data removed]"
          },
          "metadata": {}
        }
      ]
    },
    {
      "cell_type": "markdown",
      "source": [
        "Impacto dos Descontos no Lucro"
      ],
      "metadata": {
        "id": "VxSk7X5wUx-1"
      }
    },
    {
      "cell_type": "code",
      "source": [
        "# Gráfico 3: Impacto dos Descontos no Lucro\n",
        "plt.figure(figsize=(10, 6))\n",
        "impacto_desconto['Margem Lucro'].plot(kind='bar', color=['green', 'yellow', 'orange', 'red'])\n",
        "plt.title('Margem de Lucro por Faixa de Desconto')\n",
        "plt.xlabel('Faixa de Desconto')\n",
        "plt.ylabel('Margem Lucro (%)')\n",
        "plt.xticks(rotation=45)\n",
        "plt.grid(True, alpha=0.3)\n",
        "plt.tight_layout()\n",
        "plt.show()"
      ],
      "metadata": {
        "colab": {
          "base_uri": "https://localhost:8080/",
          "height": 607
        },
        "id": "SmEhYOf5UJN4",
        "outputId": "f603f701-09f8-42d7-c08c-27c3ca1b6382"
      },
      "execution_count": 22,
      "outputs": [
        {
          "output_type": "display_data",
          "data": {
            "text/plain": [
              "<Figure size 1000x600 with 1 Axes>"
            ],
            "image/png": "[encoded data removed]"
          },
          "metadata": {}
        }
      ]
    },
    {
      "cell_type": "markdown",
      "source": [
        "Vendas por Mês"
      ],
      "metadata": {
        "id": "o3HDQUx8U70T"
      }
    },
    {
      "cell_type": "code",
      "source": [
        "# Gráfico 4: Vendas por Mês\n",
        "plt.figure(figsize=(10, 6))\n",
        "vendas_mes_plot = df.groupby('Order Month')['Sales'].sum()\n",
        "vendas_mes_plot.plot(kind='line', marker='o', color='blue', linewidth=2, markersize=6)\n",
        "plt.title('Vendas Totais por Mês')\n",
        "plt.xlabel('Mês')\n",
        "plt.ylabel('Vendas ($)')\n",
        "plt.grid(True, alpha=0.3)\n",
        "plt.tight_layout()\n",
        "plt.show()"
      ],
      "metadata": {
        "colab": {
          "base_uri": "https://localhost:8080/",
          "height": 607
        },
        "id": "PYEj3Qc-UJFl",
        "outputId": "052686dd-fc7f-4209-eba7-f3996ccb956b"
      },
      "execution_count": 23,
      "outputs": [
        {
          "output_type": "display_data",
          "data": {
            "text/plain": [
              "<Figure size 1000x600 with 1 Axes>"
            ],
            "image/png": "[encoded data removed]"
          },
          "metadata": {}
        }
      ]
    },
    {
      "cell_type": "markdown",
      "source": [
        "Mapa de Calor de Correlações"
      ],
      "metadata": {
        "id": "Gx_JYJaFVRm9"
      }
    },
    {
      "cell_type": "code",
      "source": [
        "# Mapa de calor das correlações\n",
        "plt.figure(figsize=(8, 6))\n",
        "sns.heatmap(correlacao, annot=True, cmap='coolwarm', center=0,\n",
        "            square=True, linewidths=0.5, fmt='.3f')\n",
        "plt.title('Mapa de Calor - Correlação entre Variáveis')\n",
        "plt.tight_layout()\n",
        "plt.show()"
      ],
      "metadata": {
        "colab": {
          "base_uri": "https://localhost:8080/",
          "height": 607
        },
        "id": "MTnVMLNXU_pw",
        "outputId": "68feccaa-7f73-419d-db39-a4a31ff748e9"
      },
      "execution_count": 24,
      "outputs": [
        {
          "output_type": "display_data",
          "data": {
            "text/plain": [
              "<Figure size 800x600 with 2 Axes>"
            ],
            "image/png": "[encoded data removed]"
          },
          "metadata": {}
        }
      ]
    },
    {
      "cell_type": "markdown",
      "source": [
        "Resumo Executivo e Insights"
      ],
      "metadata": {
        "id": "OiZ2IfoOVYru"
      }
    },
    {
      "cell_type": "code",
      "source": [
        "print(\"=\" * 70)\n",
        "print(\"RELATORIO FINAL - PRINCIPAIS INSIGHTS\")\n",
        "print(\"=\" * 70)\n",
        "\n",
        "print(\"\\nMETRICAS GERAIS:\")\n",
        "print(f\"- Total de Vendas: ${df['Sales'].sum():,.2f}\")\n",
        "print(f\"- Total de Lucro: ${df['Profit'].sum():,.2f}\")\n",
        "print(f\"- Margem de Lucro Geral: {(df['Profit'].sum()/df['Sales'].sum()*100):.2f}%\")\n",
        "print(f\"- Total de Pedidos: {df['Order ID'].nunique()}\")\n",
        "print(f\"- Total de Clientes: {df['Customer ID'].nunique()}\")\n",
        "\n",
        "print(\"\\nPROBLEMAS IDENTIFICADOS:\")\n",
        "print(\"1. Subcategorias com PREJUIZO:\")\n",
        "for subcat in lucro_negativo.index:\n",
        "    lucro = lucro_negativo.loc[subcat, 'Profit']\n",
        "    print(f\"   - {subcat}: ${lucro:,.2f}\")\n",
        "\n",
        "print(\"\\n2. Estados com PREJUIZO:\")\n",
        "for state in prejuizo_estado.index[:3]:\n",
        "    prejuizo = prejuizo_estado[state]\n",
        "    print(f\"   - {state}: ${prejuizo:,.2f}\")\n",
        "\n",
        "print(\"\\n3. Impacto NEGATIVO de Descontos:\")\n",
        "print(f\"   - Descontos > 30%: Margem de {impacto_desconto.loc['30-50%', 'Margem Lucro']}%\")\n",
        "print(f\"   - Descontos > 50%: Margem de {impacto_desconto.loc['50-100%', 'Margem Lucro']}%\")\n",
        "\n",
        "print(\"\\nOPORTUNIDADES:\")\n",
        "print(\"1. Segmentos Lucrativos:\")\n",
        "print(f\"   - Home Office: Lucro por pedido ${performance_segmento.loc['Home Office', 'Lucro por Pedido']}\")\n",
        "print(f\"   - Technology: Margem de {(vendas_categoria.loc['Technology', 'Total Lucro']/vendas_categoria.loc['Technology', 'Total Vendas']*100):.2f}%\")\n",
        "\n",
        "print(\"\\n2. Produtos Estrela:\")\n",
        "top_produtos = df.groupby('Sub-Category')['Profit'].sum().sort_values(ascending=False).head(3)\n",
        "for produto in top_produtos.index:\n",
        "    print(f\"   - {produto}: ${top_produtos[produto]:,.2f}\")\n",
        "\n",
        "print(\"\\n3. Regioes de Alto Desempenho:\")\n",
        "print(f\"   - Oeste: Margem de {performance_regiao.loc['West', 'Margem Lucro']}%\")\n",
        "print(f\"   - Leste: Margem de {performance_regiao.loc['East', 'Margem Lucro']}%\")\n",
        "\n",
        "print(\"\\nRECOMENDACOES ESTRATEGICAS:\")\n",
        "print(\"1. REVISAR POLITICA DE DESCONTOS - Limitar descontos acima de 30%\")\n",
        "print(\"2. OTIMIZAR MIX DE PRODUTOS - Reduzir Tables e Bookcases com prejuizo\")\n",
        "print(\"3. FOCO EM CLIENTES HOME OFFICE - Maior ticket medio e lucratividade\")\n",
        "print(\"4. EXPANSAO REGIONAL - Investir mais nas regioes Oeste e Leste\")\n",
        "print(\"5. GESTAO POR ESTADO - Atencao especial para Texas, Ohio e Pennsylvania\")"
      ],
      "metadata": {
        "colab": {
          "base_uri": "https://localhost:8080/"
        },
        "id": "1leF6ZPkU_kt",
        "outputId": "c47bff2e-60bb-4384-ccf4-e4c41a2f8dad"
      },
      "execution_count": 26,
      "outputs": [
        {
          "output_type": "stream",
          "name": "stdout",
          "text": [
            "======================================================================\n",
            "RELATORIO FINAL - PRINCIPAIS INSIGHTS\n",
            "======================================================================\n",
            "\n",
            "METRICAS GERAIS:\n",
            "- Total de Vendas: $2,297,200.86\n",
            "- Total de Lucro: $286,397.02\n",
            "- Margem de Lucro Geral: 12.47%\n",
            "- Total de Pedidos: 5009\n",
            "- Total de Clientes: 793\n",
            "\n",
            "PROBLEMAS IDENTIFICADOS:\n",
            "1. Subcategorias com PREJUIZO:\n",
            "   - Tables: $-17,725.48\n",
            "   - Bookcases: $-3,472.56\n",
            "   - Supplies: $-1,189.10\n",
            "\n",
            "2. Estados com PREJUIZO:\n",
            "   - Texas: $-25,729.36\n",
            "   - Ohio: $-16,971.38\n",
            "   - Pennsylvania: $-15,559.96\n",
            "\n",
            "3. Impacto NEGATIVO de Descontos:\n",
            "   - Descontos > 30%: Margem de -24.8%\n",
            "   - Descontos > 50%: Margem de -119.2%\n",
            "\n",
            "OPORTUNIDADES:\n",
            "1. Segmentos Lucrativos:\n",
            "   - Home Office: Lucro por pedido $33.82\n",
            "   - Technology: Margem de 17.40%\n",
            "\n",
            "2. Produtos Estrela:\n",
            "   - Copiers: $55,617.82\n",
            "   - Phones: $44,515.73\n",
            "   - Accessories: $41,936.64\n",
            "\n",
            "3. Regioes de Alto Desempenho:\n",
            "   - Oeste: Margem de 14.94%\n",
            "   - Leste: Margem de 13.48%\n",
            "\n",
            "RECOMENDACOES ESTRATEGICAS:\n",
            "1. REVISAR POLITICA DE DESCONTOS - Limitar descontos acima de 30%\n",
            "2. OTIMIZAR MIX DE PRODUTOS - Reduzir Tables e Bookcases com prejuizo\n",
            "3. FOCO EM CLIENTES HOME OFFICE - Maior ticket medio e lucratividade\n",
            "4. EXPANSAO REGIONAL - Investir mais nas regioes Oeste e Leste\n",
            "5. GESTAO POR ESTADO - Atencao especial para Texas, Ohio e Pennsylvania\n"
          ]
        }
      ]
    },
    {
      "cell_type": "markdown",
      "source": [
        "# **Conclusão do Projeto**"
      ],
      "metadata": {
        "id": "ivl4gboNV9xL"
      }
    },
    {
      "cell_type": "code",
      "source": [
        "print(\"=\" * 70)\n",
        "print(\"PROJETO CONCLUIDO COM SUCESSO\")\n",
        "print(\"=\" * 70)\n",
        "\n",
        "print(\"\\nRESUMO DA ANALISE REALIZADA:\")\n",
        "print(\"FASE 1: Preparacao e Entendimento dos Dados\")\n",
        "print(\"- Carregamento e inspecao do dataset (9994 linhas, 19 colunas)\")\n",
        "print(\"- Verificacao de qualidade (sem nulos, sem duplicados)\")\n",
        "print(\"- Preparacao de datas e tipos de dados\")\n",
        "\n",
        "print(\"\\nFASE 2: Analise Exploratoria (EDA)\")\n",
        "print(\"- Analise de vendas e lucro por categoria e subcategoria\")\n",
        "print(\"- Analise geografica (regioes e estados)\")\n",
        "print(\"- Analise de segmentos de clientes\")\n",
        "print(\"- Identificacao de produtos problematicos e lucrativos\")\n",
        "\n",
        "print(\"\\nFASE 3: Analise de Performance\")\n",
        "print(\"- Impacto dos descontos na lucratividade\")\n",
        "print(\"- Analise de correlacoes entre variaveis\")\n",
        "print(\"- Analise de sazonalidade e tendencias temporais\")\n",
        "\n",
        "print(\"\\nFASE 4: Visualizacoes e Insights\")\n",
        "print(\"- 4 graficos principais para compreensao visual\")\n",
        "print(\"- Mapa de calor de correlacoes\")\n",
        "print(\"- Relatorio executivo com insights e recomendacoes\")\n",
        "\n",
        "print(\"\\nPRINCIPAIS ACHADOS:\")\n",
        "print(f\"- Margem de lucro geral: 12.47%\")\n",
        "print(f\"- 3 subcategorias com prejuizo acumulado: $22,387.14\")\n",
        "print(f\"- 3 estados com prejuizo acumulado: $58,260.70\")\n",
        "print(f\"- Descontos acima de 30% geram prejuizo de 24.8% a 119.2%\")\n",
        "\n",
        "print(\"\\nPROXIMOS PASSOS POTENCIAIS:\")\n",
        "print(\"- Analise de custos por produto\")\n",
        "print(\"- Segmentacao de clientes por valor\")\n",
        "print(\"- Analise de campanhas de marketing\")\n",
        "print(\"- Previsao de demanda e vendas\")"
      ],
      "metadata": {
        "colab": {
          "base_uri": "https://localhost:8080/"
        },
        "id": "4aml1hKAU_dU",
        "outputId": "e0e034fd-bae4-4739-987a-4413c3332df6"
      },
      "execution_count": 27,
      "outputs": [
        {
          "output_type": "stream",
          "name": "stdout",
          "text": [
            "======================================================================\n",
            "PROJETO CONCLUIDO COM SUCESSO\n",
            "======================================================================\n",
            "\n",
            "RESUMO DA ANALISE REALIZADA:\n",
            "FASE 1: Preparacao e Entendimento dos Dados\n",
            "- Carregamento e inspecao do dataset (9994 linhas, 19 colunas)\n",
            "- Verificacao de qualidade (sem nulos, sem duplicados)\n",
            "- Preparacao de datas e tipos de dados\n",
            "\n",
            "FASE 2: Analise Exploratoria (EDA)\n",
            "- Analise de vendas e lucro por categoria e subcategoria\n",
            "- Analise geografica (regioes e estados)\n",
            "- Analise de segmentos de clientes\n",
            "- Identificacao de produtos problematicos e lucrativos\n",
            "\n",
            "FASE 3: Analise de Performance\n",
            "- Impacto dos descontos na lucratividade\n",
            "- Analise de correlacoes entre variaveis\n",
            "- Analise de sazonalidade e tendencias temporais\n",
            "\n",
            "FASE 4: Visualizacoes e Insights\n",
            "- 4 graficos principais para compreensao visual\n",
            "- Mapa de calor de correlacoes\n",
            "- Relatorio executivo com insights e recomendacoes\n",
            "\n",
            "PRINCIPAIS ACHADOS:\n",
            "- Margem de lucro geral: 12.47%\n",
            "- 3 subcategorias com prejuizo acumulado: $22,387.14\n",
            "- 3 estados com prejuizo acumulado: $58,260.70\n",
            "- Descontos acima de 30% geram prejuizo de 24.8% a 119.2%\n",
            "\n",
            "PROXIMOS PASSOS POTENCIAIS:\n",
            "- Analise de custos por produto\n",
            "- Segmentacao de clientes por valor\n",
            "- Analise de campanhas de marketing\n",
            "- Previsao de demanda e vendas\n"
          ]
        }
      ]
    }
  ]
}